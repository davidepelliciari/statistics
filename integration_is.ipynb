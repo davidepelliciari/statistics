{
  "nbformat": 4,
  "nbformat_minor": 0,
  "metadata": {
    "colab": {
      "name": "Untitled3.ipynb",
      "provenance": [],
      "collapsed_sections": [],
      "authorship_tag": "ABX9TyOI9hl68L4AGO3pvuJQ7u3w",
      "include_colab_link": true
    },
    "kernelspec": {
      "name": "python3",
      "display_name": "Python 3"
    }
  },
  "cells": [
    {
      "cell_type": "markdown",
      "metadata": {
        "id": "view-in-github",
        "colab_type": "text"
      },
      "source": [
        "<a href=\"https://colab.research.google.com/github/davidepelliciari/statistics/blob/master/integration_is.ipynb\" target=\"_parent\"><img src=\"https://colab.research.google.com/assets/colab-badge.svg\" alt=\"Open In Colab\"/></a>"
      ]
    },
    {
      "cell_type": "markdown",
      "metadata": {
        "id": "TyDc8LXmCF1y",
        "colab_type": "text"
      },
      "source": [
        "# Uso dell'importance sampling nel calcolo di un integrale definito\n",
        "\n",
        "Di seguito vogliamo stimare il seguente integrale:\n",
        "\n",
        " $I = \\displaystyle \\int_0^1 e^{-x^2} dx$\n",
        "\n",
        " Eseguiamo la stima prima attraverso un sample uniforme $U(0,1)$ e poi applicando l'importance sampling. In pratica viene usata una distribuzione diversa dall'integranda per il sampling per ottenere un'errore più piccolo sul risultato. Per una generica funzione $f(x)$, si può scrivere:\n",
        "\n",
        " $I = \\displaystyle \\int_a^b f(x)dx = E_U[f(x)]$\n",
        "\n",
        " Lo stimatore per questo integrale è:   $ \\hat{I} = \\frac{b-a}{N} \\displaystyle \\sum_{i=1}^N f(x_i)$.\n",
        "\n",
        " Si può dimostrare facilmente che $E[\\hat{I}]$ è pari all'integrale. L'integrale $I$ può essere riscritto come:\n",
        "\n",
        " $ I = \\displaystyle \\int_a^b \\frac{f(x)}{p(x)} p(x) dx = E_p\\Big[\\frac{f(x)}{p(x)}\\Big]$\n",
        "\n",
        " Dunque scegliendo una pdf $p(x)$, dalla quale il sample è estratto, è possibile ottenere una stima dell'integrale. Scegliendo una buona pdf è possibile ridurre la varianza sulla stima dell'integrale.\n",
        "\n",
        "# 1. Implementazione in uno script python"
      ]
    },
    {
      "cell_type": "markdown",
      "metadata": {
        "id": "QffyGneHHGKa",
        "colab_type": "text"
      },
      "source": [
        "Importiamo qualche buona libreria che non fa mai male:"
      ]
    },
    {
      "cell_type": "code",
      "metadata": {
        "id": "u2umohh6CCrw",
        "colab_type": "code",
        "colab": {}
      },
      "source": [
        "import numpy as np\n",
        "import matplotlib.pyplot as plt\n",
        "import matplotlib.gridspec as gridspec\n",
        "import scipy.optimize\n",
        "import math"
      ],
      "execution_count": 0,
      "outputs": []
    },
    {
      "cell_type": "markdown",
      "metadata": {
        "id": "NCo6E-oRHTY7",
        "colab_type": "text"
      },
      "source": [
        "E dichiariamo le variabili principali e le costanti matematiche di cui faremo uso:"
      ]
    },
    {
      "cell_type": "code",
      "metadata": {
        "id": "E0QuARC9He1D",
        "colab_type": "code",
        "colab": {}
      },
      "source": [
        "# Dichiarazioni\n",
        "a = 0\n",
        "b = 1\n",
        "e = math.e\n",
        "Num = 10000   #Numero di samples da generare\n",
        "\n",
        "truth = 0.7468241328    #valore vero dell'integrale, calcolato con wolfram Alpha"
      ],
      "execution_count": 0,
      "outputs": []
    },
    {
      "cell_type": "markdown",
      "metadata": {
        "id": "AywVPVa8Hh26",
        "colab_type": "text"
      },
      "source": [
        "A questo punto definiamo le funzioni necessarie per calcolare l'integrale. Definiamo la funzione integranda, la pdf $p(x)$ da cui estrarre il sample e una funzione che restituisca il valore dello stimatore $\\hat{I}$. Abbiamo scelto di usare la seguente pdf per l'estrazione del sample:\n",
        "\n",
        "$p(x) = A e^{-x}$\n",
        "\n",
        "Dove $A$ è una costante di normalizzazione pari a $A = \\displaystyle \\frac{e}{e-1}$."
      ]
    },
    {
      "cell_type": "code",
      "metadata": {
        "id": "LdO_B8s9IDX0",
        "colab_type": "code",
        "colab": {}
      },
      "source": [
        "def fun(x):     #integranda\n",
        "    return e**(-x**2)\n",
        "\n",
        "\n",
        "def P(x):       #pdf candidata per l'importance sampling\n",
        "    A = e/(e-1)\n",
        "    return A*e**(-x)\n",
        "\n",
        "\n",
        "def integral(x,N):      #formula per lo stimatore di I secondo importance sampling\n",
        "    sum = 0\n",
        "    for i in range (0,N):\n",
        "        sum = sum + (fun(x[i])/P(x[i]))\n",
        "    return (1/N)*sum"
      ],
      "execution_count": 0,
      "outputs": []
    },
    {
      "cell_type": "markdown",
      "metadata": {
        "id": "YZA6sx3dIWKr",
        "colab_type": "text"
      },
      "source": [
        "Definiamo poi una funzione molto importante, la funzione randdist. Questa funzione permette di ottenere un sample di valori da una distribuzione di probabilità a scelta, nel nostro caso quest'ultima sarà proprio la $p(x)$.\n",
        "\n"
      ]
    },
    {
      "cell_type": "code",
      "metadata": {
        "id": "s9JlejBNIznP",
        "colab_type": "code",
        "colab": {}
      },
      "source": [
        "def randdist(x, pdf, nvals):    #genera un sample distribuito secondo una pdf a scelta (P(x))\n",
        "    \"\"\"Produce nvals random samples from pdf(x), assuming constant spacing in x.\"\"\"\n",
        "\n",
        "    # get cumulative distribution from 0 to 1\n",
        "    cumpdf = np.cumsum(pdf)\n",
        "    cumpdf *= 1/cumpdf[-1]\n",
        "\n",
        "    # input random values\n",
        "    randv = np.random.uniform(size=nvals)\n",
        "\n",
        "    # find where random values would go\n",
        "    idx1 = np.searchsorted(cumpdf, randv)\n",
        "    # get previous value, avoiding division by zero below\n",
        "    idx0 = np.where(idx1==0, 0, idx1-1)\n",
        "    idx1[idx0==0] = 1\n",
        "\n",
        "    # do linear interpolation in x\n",
        "    frac1 = (randv - cumpdf[idx0]) / (cumpdf[idx1] - cumpdf[idx0])\n",
        "    randdist = x[idx0]*(1-frac1) + x[idx1]*frac1\n",
        "\n",
        "    return randdist"
      ],
      "execution_count": 0,
      "outputs": []
    },
    {
      "cell_type": "markdown",
      "metadata": {
        "id": "VMmpc3qHI5Hb",
        "colab_type": "text"
      },
      "source": [
        "Siamo pronti a calcolare la stima del nostro integrale seguendo due distribuzioni differenti per l'estrazione del sample:\n",
        "\n",
        "1. Distribuzione uniforme $U(0,1)$, implementata dalla funzione del pacchetto numpy np.random.rand();\n",
        "\n",
        "2. Distribuzione $p(x)$.\n",
        "\n",
        "Generiamo un array di Num valori uniformemente distribuiti tra gli estremi di integrazione."
      ]
    },
    {
      "cell_type": "code",
      "metadata": {
        "id": "bK5lg7M9JYav",
        "colab_type": "code",
        "colab": {}
      },
      "source": [
        "x = np.linspace(a,b,Num)\n",
        "\n",
        "randdist_vals = randdist(x,P(x),Num)  #sample dalla pdf a scelta\n",
        "\n",
        "x_unif = np.random.rand(Num)  #sample dalla pdf uniforme"
      ],
      "execution_count": 0,
      "outputs": []
    },
    {
      "cell_type": "markdown",
      "metadata": {
        "id": "RregnJ2sJ1yZ",
        "colab_type": "text"
      },
      "source": [
        "Una volta fatto ciò possiamo stampare sul terminale i risultati ottenuti:"
      ]
    },
    {
      "cell_type": "code",
      "metadata": {
        "id": "BD0Ar14SJ7Ps",
        "colab_type": "code",
        "colab": {
          "base_uri": "https://localhost:8080/",
          "height": 51
        },
        "outputId": "703027be-5a13-4ef6-d88d-c27892799b07"
      },
      "source": [
        "# PRINT DEI RISULTATI OTTENUTI E DISCOSTAMENTO DAL VALORE VERO\n",
        "\n",
        "print(\"Valore calcolato (IMP SAMP): \", integral(randdist_vals,Num), \"Discostamento:\", (integral(randdist_vals,Num)-truth)/truth)\n",
        "print(\"Valore calcolato (UNIFORM SAMP): \", integral(x_unif,Num), \"Discostamento: \", (integral(x_unif,Num)-truth)/truth)"
      ],
      "execution_count": 8,
      "outputs": [
        {
          "output_type": "stream",
          "text": [
            "Valore calcolato (IMP SAMP):  0.7468174483721474 Discostamento: -8.950471147223692e-06\n",
            "Valore calcolato (UNIFORM SAMP):  0.7485642669137585 Discostamento:  0.0023300453712367056\n"
          ],
          "name": "stdout"
        }
      ]
    },
    {
      "cell_type": "markdown",
      "metadata": {
        "id": "lwXRpFDIJ6d9",
        "colab_type": "text"
      },
      "source": [
        "Possiamo poi vedere come si distribuiscono i valori estratti secondo la pdf da noi scelta:"
      ]
    },
    {
      "cell_type": "code",
      "metadata": {
        "id": "2ieXJSC1KKSA",
        "colab_type": "code",
        "colab": {
          "base_uri": "https://localhost:8080/",
          "height": 265
        },
        "outputId": "4d3a5dcc-7220-4ea7-ca8b-cc76f5743d98"
      },
      "source": [
        "plt.hist(randdist_vals,50, label='samples from A*e^-x')\n",
        "plt.legend()\n",
        "plt.show()"
      ],
      "execution_count": 9,
      "outputs": [
        {
          "output_type": "display_data",
          "data": {
            "image/png": "[encoded data removed]",
            "text/plain": [
              "<Figure size 432x288 with 1 Axes>"
            ]
          },
          "metadata": {
            "tags": []
          }
        }
      ]
    },
    {
      "cell_type": "markdown",
      "metadata": {
        "id": "Ll_xWDLCKPwY",
        "colab_type": "text"
      },
      "source": [
        "Per valori di Num sempre maggiori si può notare come essi seguano effettivamente la pdf scelta."
      ]
    }
  ]
}