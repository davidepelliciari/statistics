{
  "nbformat": 4,
  "nbformat_minor": 0,
  "metadata": {
    "colab": {
      "name": "imp_sampling.ipynb",
      "provenance": [],
      "collapsed_sections": [],
      "toc_visible": true,
      "authorship_tag": "ABX9TyMP/9glDWAQXRmoAAFSBbHH",
      "include_colab_link": true
    },
    "kernelspec": {
      "name": "python3",
      "display_name": "Python 3"
    }
  },
  "cells": [
    {
      "cell_type": "markdown",
      "metadata": {
        "id": "view-in-github",
        "colab_type": "text"
      },
      "source": [
        "<a href=\"https://colab.research.google.com/github/davidepelliciari/statistics/blob/master/imp_sampling.ipynb\" target=\"_parent\"><img src=\"https://colab.research.google.com/assets/colab-badge.svg\" alt=\"Open In Colab\"/></a>"
      ]
    },
    {
      "cell_type": "markdown",
      "metadata": {
        "id": "5B0XzEiENTs0"
      },
      "source": [
        "# **A-posteriori probe combination using importance sampling**"
      ]
    },
    {
      "cell_type": "markdown",
      "metadata": {
        "id": "BEBoP98FzQtT"
      },
      "source": [
        "In this notebook we show how to perform importance sampling on two cosmological probes. We are going to use BAO MCMC chains from Cooke et al. 2017, and WMAP MCMC chains and we're going to consider 4 cosmological parameters:\n",
        "\n",
        "$\\vec{\\theta} = (\\Omega_bh^2, h, \\Omega_\\Lambda, \\Omega_m)$\n",
        "\n",
        "This importance sampler reads points from one chain and then weights them according to the importance sampling rule (see later). In order to do this one needs $\\chi^2_x$ (or $log P_x = -0.5 \\chi^2_x$, where $P$ is the posterior distribution of probe $x$) at that points from the other chain's data. We're gonna interpolate that using the CosmoBolognaLib's class **Chain Mesh**.\n",
        "Consequently one needs to importance sampling chain2 with chain1 and at the end concatenates the resulting chains."
      ]
    },
    {
      "cell_type": "markdown",
      "metadata": {
        "id": "-jJcpZ8EODUo"
      },
      "source": [
        "# Set the Environment "
      ]
    },
    {
      "cell_type": "markdown",
      "metadata": {
        "id": "dGnp4dJhOsyC"
      },
      "source": [
        "## Import standard Python modules required for the analysis"
      ]
    },
    {
      "cell_type": "code",
      "metadata": {
        "id": "O-LJqC4PNqgo",
        "outputId": "dd5871ba-64d2-470c-e1d4-a6ebf40ee746",
        "colab": {
          "base_uri": "https://localhost:8080/"
        }
      },
      "source": [
        "from scipy.spatial import Voronoi\n",
        "from scipy.spatial import ConvexHull\n",
        "from shapely.geometry import Polygon\n",
        "import numpy as np\n",
        "import matplotlib.pyplot as plt\n",
        "import os\n",
        "import scipy.interpolate\n",
        "import scipy.spatial\n",
        "from zipfile import ZipFile\n",
        "import time\n",
        "!pip install corner\n",
        "import corner\n",
        "\n",
        "# https://docs.python.org/3/library/sys.html\n",
        "import sys\n",
        "\n",
        "# https://docs.python.org/3/library/urllib.html\n",
        "import urllib.request as request\n",
        "from urllib.request import urlopen\n",
        "\n",
        "# https://docs.python.org/3/library/io.html\n",
        "from io import BytesIO\n"
      ],
      "execution_count": null,
      "outputs": [
        {
          "output_type": "stream",
          "text": [
            "Requirement already satisfied: corner in /usr/local/lib/python3.6/dist-packages (2.1.0)\n",
            "Requirement already satisfied: setuptools-scm in /usr/local/lib/python3.6/dist-packages (from corner) (4.1.2)\n",
            "Requirement already satisfied: matplotlib>=2.1 in /usr/local/lib/python3.6/dist-packages (from corner) (3.2.2)\n",
            "Requirement already satisfied: wheel in /usr/local/lib/python3.6/dist-packages (from corner) (0.35.1)\n",
            "Requirement already satisfied: setuptools>=40.6.0 in /usr/local/lib/python3.6/dist-packages (from corner) (50.3.2)\n",
            "Requirement already satisfied: pyparsing!=2.0.4,!=2.1.2,!=2.1.6,>=2.0.1 in /usr/local/lib/python3.6/dist-packages (from matplotlib>=2.1->corner) (2.4.7)\n",
            "Requirement already satisfied: kiwisolver>=1.0.1 in /usr/local/lib/python3.6/dist-packages (from matplotlib>=2.1->corner) (1.3.1)\n",
            "Requirement already satisfied: cycler>=0.10 in /usr/local/lib/python3.6/dist-packages (from matplotlib>=2.1->corner) (0.10.0)\n",
            "Requirement already satisfied: python-dateutil>=2.1 in /usr/local/lib/python3.6/dist-packages (from matplotlib>=2.1->corner) (2.8.1)\n",
            "Requirement already satisfied: numpy>=1.11 in /usr/local/lib/python3.6/dist-packages (from matplotlib>=2.1->corner) (1.18.5)\n",
            "Requirement already satisfied: six in /usr/local/lib/python3.6/dist-packages (from cycler>=0.10->matplotlib>=2.1->corner) (1.15.0)\n"
          ],
          "name": "stdout"
        }
      ]
    },
    {
      "cell_type": "markdown",
      "metadata": {
        "id": "rSEQfXpHPNb_"
      },
      "source": [
        "## Mount the Google Drive home directory"
      ]
    },
    {
      "cell_type": "code",
      "metadata": {
        "id": "_QwCfbGAPRTz",
        "outputId": "0c77608d-189f-4636-fe5e-411491065059",
        "colab": {
          "base_uri": "https://localhost:8080/"
        }
      },
      "source": [
        "# Mount Google Drive home\n",
        "from google.colab import drive\n",
        "drive.mount('/content/drive')"
      ],
      "execution_count": null,
      "outputs": [
        {
          "output_type": "stream",
          "text": [
            "Drive already mounted at /content/drive; to attempt to forcibly remount, call drive.mount(\"/content/drive\", force_remount=True).\n"
          ],
          "name": "stdout"
        }
      ]
    },
    {
      "cell_type": "markdown",
      "metadata": {
        "id": "KcAUwI7vPgry"
      },
      "source": [
        "### Get the CosmoBolognaLib and compile, to get the Python wrapper\n",
        "\n",
        "We will make use of the CosmoBolognaLib (https://arxiv.org/pdf/1511.00012.pdf) to manage posterior distributions using Chain Mesh. The CosmoBolognaLib is a large set of free software C++/Python libraries for cosmological calculations, available at the following GitLab repository: https://gitlab.com/federicomarulli/CosmoBolognaLib."
      ]
    },
    {
      "cell_type": "code",
      "metadata": {
        "id": "bzFqhyImQAmS",
        "outputId": "d4241bfc-ad67-4b9c-f478-a443c8a2c506",
        "colab": {
          "base_uri": "https://localhost:8080/"
        }
      },
      "source": [
        "# Get the CosmoBolognaLib\n",
        "!pip install --index-url https://test.pypi.org/simple/ --no-deps Manage_CosmoBolognaLib\n",
        "\n",
        "# Import the module to compile the CosmoBolognaLib\n",
        "from Manage_CosmoBolognaLib.managecbl import ManageCosmoBolognaLib as mc\n",
        "\n",
        "# First initialize the environment\n",
        "# the constructor install (if necessary) all the required dependencies\n",
        "getCBL = mc()\n",
        "\n",
        "# The call operator search for an existing installation of the CosmoBolognaLib (in form of .tar.gz)\n",
        "# at path root_dir+CBL_file+.tar.gz.\n",
        "# If the file root_dir+CBL_file+.tar.gz exists, it is copied in the /content/CosmoBolognaLib folder and extracted\n",
        "# If the file root_dir+CBL_file+.tar.gz doesn't exists, the CosmoBolognaLib repository is cloned and the libraries\n",
        "# compiled. The results is then compressed and sent to root_dir.\n",
        "if not os.path.isdir(\"/content/CosmoBolognaLib/\"):\n",
        "  getCBL(CBL_file=\"CosmoBolognaLib\", root_dir=\"/content/drive/My Drive\", branch=\"develop\")\n",
        "else:\n",
        "  getCBL.pull()\n",
        "  getCBL.compile()\n",
        "  #getCBL.send_tar_to_drive(CBL_file=\"CosmoBolognaLib\", root_dir=\"/content/drive/My Drive\")"
      ],
      "execution_count": null,
      "outputs": [
        {
          "output_type": "stream",
          "text": [
            "Looking in indexes: https://test.pypi.org/simple/\n",
            "Requirement already satisfied: Manage_CosmoBolognaLib in /usr/local/lib/python3.6/dist-packages (0.0.2)\n",
            "libgfortran3 already installed\n",
            "libgsl-dev already installed\n",
            "libgsl23 already installed\n",
            "libgslcblas0 already installed\n",
            "libfftw3-dev already installed\n",
            "libboost-all-dev already installed\n",
            "libcfitsio5 already installed\n",
            "libcfitsio-dev already installed\n",
            "swig3.0 already installed\n",
            "cython already installed\n",
            "CosmoBolognaLib succesfully added to the PYTHONPATH!\n",
            "You can now use the CosmoBolognaLib using the import command.\n",
            "Already up to date.\n",
            "make Eigen\n",
            "g++ -shared -o /content/CosmoBolognaLib/libCBL.so /content/CosmoBolognaLib/Kernel/Kernel.o /content/CosmoBolognaLib/Wrappers/EigenWrapper.o /content/CosmoBolognaLib/Wrappers/GSLwrapper.o /content/CosmoBolognaLib/Wrappers/CUBAwrapper.o /content/CosmoBolognaLib/Wrappers/FITSwrapper.o  /content/CosmoBolognaLib/FuncGrid/FuncGrid.o /content/CosmoBolognaLib/FuncGrid/FuncGrid_Bspline.o /content/CosmoBolognaLib/External/fftlog-f90-master/drffti.o /content/CosmoBolognaLib/External/fftlog-f90-master/drfftb.o /content/CosmoBolognaLib/External/fftlog-f90-master/drfftf.o /content/CosmoBolognaLib/External/fftlog-f90-master/fftlog.o /content/CosmoBolognaLib/External/fftlog-f90-master/cdgamma.o /content/CosmoBolognaLib/FFT/FFTlog.o  /content/CosmoBolognaLib/RandomNumbers/RandomNumbers.o /content/CosmoBolognaLib/Func/Func.o /content/CosmoBolognaLib/Func/FuncXi.o /content/CosmoBolognaLib/Func/FuncMultipoles.o /content/CosmoBolognaLib/Func/LegendrePolynomials.o /content/CosmoBolognaLib/Func/SphericalHarmonics_Coefficients.o /content/CosmoBolognaLib/Data/Data.o /content/CosmoBolognaLib/Data/Data1D.o /content/CosmoBolognaLib/Data/Data1D_collection.o /content/CosmoBolognaLib/Data/Data2D.o /content/CosmoBolognaLib/Data/Data1D_extra.o /content/CosmoBolognaLib/Data/Data2D_extra.o /content/CosmoBolognaLib/Data/CovarianceMatrix.o /content/CosmoBolognaLib/Data/TaperedCovarianceMatrix.o /content/CosmoBolognaLib/Data/Table.o /content/CosmoBolognaLib/Field/Field3D.o /content/CosmoBolognaLib/Histogram/Histogram.o  /content/CosmoBolognaLib/Distribution/Distribution.o  /content/CosmoBolognaLib/Statistics/Prior.o /content/CosmoBolognaLib/Statistics/ModelParameters.o /content/CosmoBolognaLib/Statistics/LikelihoodParameters.o /content/CosmoBolognaLib/Statistics/PosteriorParameters.o /content/CosmoBolognaLib/Statistics/Model.o /content/CosmoBolognaLib/Statistics/Model1D.o /content/CosmoBolognaLib/Statistics/Model2D.o /content/CosmoBolognaLib/Statistics/LikelihoodFunction.o /content/CosmoBolognaLib/Statistics/Likelihood.o /content/CosmoBolognaLib/Statistics/Chi2.o /content/CosmoBolognaLib/Statistics/Sampler.o /content/CosmoBolognaLib/Statistics/Posterior.o /content/CosmoBolognaLib/Cosmology/Lib/Cosmology.o /content/CosmoBolognaLib/Cosmology/Lib/Sigma.o /content/CosmoBolognaLib/Cosmology/Lib/PkXi.o /content/CosmoBolognaLib/Cosmology/Lib/PkXizSpace.o /content/CosmoBolognaLib/Cosmology/Lib/PkXiNonLinear.o /content/CosmoBolognaLib/Cosmology/Lib/MassFunction.o /content/CosmoBolognaLib/Cosmology/Lib/Bias.o /content/CosmoBolognaLib/Cosmology/Lib/RSD.o /content/CosmoBolognaLib/Cosmology/Lib/DensityProfile.o /content/CosmoBolognaLib/Cosmology/Lib/Velocities.o /content/CosmoBolognaLib/Cosmology/Lib/MassGrowth.o /content/CosmoBolognaLib/Cosmology/Lib/NG.o /content/CosmoBolognaLib/Cosmology/Lib/BAO.o /content/CosmoBolognaLib/Cosmology/Lib/SizeFunction.o  /content/CosmoBolognaLib/Cosmology/Lib/3PCF.o /content/CosmoBolognaLib/External/Recfast//src/cosmology.Recfast.o /content/CosmoBolognaLib/External/Recfast//src/evalode.Recfast.o /content/CosmoBolognaLib/External/Recfast//src/recombination.Recfast.o /content/CosmoBolognaLib/External/Recfast//src/ODE_solver.Recfast.o /content/CosmoBolognaLib/External/Recfast//src/DM_annihilation.Recfast.o /content/CosmoBolognaLib/External/Recfast//src/Rec_corrs_CT.Recfast.o  /content/CosmoBolognaLib/ChainMesh/ChainMesh.o /content/CosmoBolognaLib/Catalogue/Object.o /content/CosmoBolognaLib/Catalogue/Catalogue.o /content/CosmoBolognaLib/Catalogue/RandomCatalogue.o /content/CosmoBolognaLib/Catalogue/ChainMesh_Catalogue.o /content/CosmoBolognaLib/Catalogue/RandomCatalogueVIPERS.o /content/CosmoBolognaLib/Catalogue/VoidCatalogue.o /content/CosmoBolognaLib/Catalogue/GadgetCatalogue.o /content/CosmoBolognaLib/Catalogue/FITSCatalogue.o /content/CosmoBolognaLib/LogNormal/LogNormal.o /content/CosmoBolognaLib/LogNormal/LogNormalFull.o /content/CosmoBolognaLib/Measure/NumberCounts/NumberCounts.o /content/CosmoBolognaLib/Measure/NumberCounts/NumberCounts1D.o /content/CosmoBolognaLib/Measure/NumberCounts/NumberCounts2D.o /content/CosmoBolognaLib/Measure/NumberCounts/NumberCounts1D_Redshift.o /content/CosmoBolognaLib/Measure/NumberCounts/NumberCounts1D_Mass.o /content/CosmoBolognaLib/Measure/NumberCounts/NumberCounts2D_RedshiftMass.o /content/CosmoBolognaLib/Measure/NumberCounts/NumberCounts1D_Size.o /content/CosmoBolognaLib/Measure/TwoPointCorrelation/Pair.o /content/CosmoBolognaLib/Measure/TwoPointCorrelation/Pair1D.o /content/CosmoBolognaLib/Measure/TwoPointCorrelation/Pair2D.o /content/CosmoBolognaLib/Measure/TwoPointCorrelation/Pair1D_extra.o /content/CosmoBolognaLib/Measure/TwoPointCorrelation/Pair2D_extra.o /content/CosmoBolognaLib/Measure/TwoPointCorrelation/TwoPointCorrelation.o /content/CosmoBolognaLib/Measure/TwoPointCorrelation/TwoPointCorrelation1D.o /content/CosmoBolognaLib/Measure/TwoPointCorrelation/TwoPointCorrelation1D_angular.o /content/CosmoBolognaLib/Measure/TwoPointCorrelation/TwoPointCorrelation1D_monopole.o /content/CosmoBolognaLib/Measure/TwoPointCorrelation/TwoPointCorrelation2D.o /content/CosmoBolognaLib/Measure/TwoPointCorrelation/TwoPointCorrelation2D_cartesian.o /content/CosmoBolognaLib/Measure/TwoPointCorrelation/TwoPointCorrelation2D_polar.o /content/CosmoBolognaLib/Measure/TwoPointCorrelation/TwoPointCorrelation_projected.o /content/CosmoBolognaLib/Measure/TwoPointCorrelation/TwoPointCorrelation_deprojected.o /content/CosmoBolognaLib/Measure/TwoPointCorrelation/TwoPointCorrelation_multipoles_direct.o /content/CosmoBolognaLib/Measure/TwoPointCorrelation/TwoPointCorrelation_multipoles_integrated.o /content/CosmoBolognaLib/Measure/TwoPointCorrelation/TwoPointCorrelation_wedges.o /content/CosmoBolognaLib/Measure/TwoPointCorrelation/TwoPointCorrelation1D_filtered.o /content/CosmoBolognaLib/Measure/TwoPointCorrelation/TwoPointCorrelationCross.o /content/CosmoBolognaLib/Measure/TwoPointCorrelation/TwoPointCorrelationCross1D.o /content/CosmoBolognaLib/Measure/TwoPointCorrelation/TwoPointCorrelationCross1D_angular.o /content/CosmoBolognaLib/Measure/TwoPointCorrelation/TwoPointCorrelationCross1D_monopole.o /content/CosmoBolognaLib/Measure/ThreePointCorrelation/Triplet.o /content/CosmoBolognaLib/Measure/ThreePointCorrelation/ThreePointCorrelation.o /content/CosmoBolognaLib/Measure/ThreePointCorrelation/ThreePointCorrelation_angular_connected.o /content/CosmoBolognaLib/Measure/ThreePointCorrelation/ThreePointCorrelation_angular_reduced.o /content/CosmoBolognaLib/Measure/ThreePointCorrelation/ThreePointCorrelation_comoving_connected.o /content/CosmoBolognaLib/Measure/ThreePointCorrelation/ThreePointCorrelation_comoving_reduced.o /content/CosmoBolognaLib/Measure/ThreePointCorrelation/ThreePointCorrelation_comoving_multipoles.o /content/CosmoBolognaLib/Measure/ThreePointCorrelation/ThreePointCorrelation_comoving_multipoles_single.o /content/CosmoBolognaLib/Measure/ThreePointCorrelation/ThreePointCorrelation_comoving_multipoles_all.o /content/CosmoBolognaLib/Modelling/Global/Modelling.o  /content/CosmoBolognaLib/Modelling/Global/Modelling1D.o /content/CosmoBolognaLib/Modelling/Global/Modelling2D.o /content/CosmoBolognaLib/Modelling/Cosmology/ModelFunction_Cosmology.o /content/CosmoBolognaLib/Modelling/Cosmology/Modelling_Cosmology.o /content/CosmoBolognaLib/Modelling/NumberCounts/Modelling_NumberCounts.o /content/CosmoBolognaLib/Modelling/NumberCounts/ModelFunction_NumberCounts.o /content/CosmoBolognaLib/Modelling/NumberCounts/Modelling_NumberCounts1D.o /content/CosmoBolognaLib/Modelling/NumberCounts/Modelling_NumberCounts2D.o /content/CosmoBolognaLib/Modelling/NumberCounts/ModelFunction_NumberCounts1D_Redshift.o /content/CosmoBolognaLib/Modelling/NumberCounts/Modelling_NumberCounts1D_Redshift.o /content/CosmoBolognaLib/Modelling/NumberCounts/ModelFunction_NumberCounts1D_Mass.o /content/CosmoBolognaLib/Modelling/NumberCounts/ModelFunction_NumberCounts1D_Size.o /content/CosmoBolognaLib/Modelling/NumberCounts/Modelling_NumberCounts1D_Mass.o /content/CosmoBolognaLib/Modelling/NumberCounts/ModelFunction_NumberCounts2D_RedshiftMass.o /content/CosmoBolognaLib/Modelling/NumberCounts/Modelling_NumberCounts2D_RedshiftMass.o /content/CosmoBolognaLib/Modelling/NumberCounts/Modelling_NumberCounts1D_Size.o /content/CosmoBolognaLib/Modelling/TwoPointCorrelation/Modelling_TwoPointCorrelation.o /content/CosmoBolognaLib/Modelling/TwoPointCorrelation/ModelFunction_TwoPointCorrelation.o /content/CosmoBolognaLib/Modelling/TwoPointCorrelation/Modelling_TwoPointCorrelation1D.o /content/CosmoBolognaLib/Modelling/TwoPointCorrelation/ModelFunction_TwoPointCorrelation1D.o /content/CosmoBolognaLib/Modelling/TwoPointCorrelation/Modelling_TwoPointCorrelation1D_angular.o /content/CosmoBolognaLib/Modelling/TwoPointCorrelation/ModelFunction_TwoPointCorrelation1D_angular.o /content/CosmoBolognaLib/Modelling/TwoPointCorrelation/Modelling_TwoPointCorrelation1D_monopole.o /content/CosmoBolognaLib/Modelling/TwoPointCorrelation/ModelFunction_TwoPointCorrelation1D_monopole.o /content/CosmoBolognaLib/Modelling/TwoPointCorrelation/Modelling_TwoPointCorrelation2D.o /content/CosmoBolognaLib/Modelling/TwoPointCorrelation/ModelFunction_TwoPointCorrelation2D.o /content/CosmoBolognaLib/Modelling/TwoPointCorrelation/Modelling_TwoPointCorrelation2D_cartesian.o /content/CosmoBolognaLib/Modelling/TwoPointCorrelation/ModelFunction_TwoPointCorrelation2D_cartesian.o /content/CosmoBolognaLib/Modelling/TwoPointCorrelation/Modelling_TwoPointCorrelation2D_polar.o /content/CosmoBolognaLib/Modelling/TwoPointCorrelation/ModelFunction_TwoPointCorrelation2D_polar.o /content/CosmoBolognaLib/Modelling/TwoPointCorrelation/Modelling_TwoPointCorrelation_projected.o /content/CosmoBolognaLib/Modelling/TwoPointCorrelation/ModelFunction_TwoPointCorrelation_projected.o /content/CosmoBolognaLib/Modelling/TwoPointCorrelation/Modelling_TwoPointCorrelation_deprojected.o /content/CosmoBolognaLib/Modelling/TwoPointCorrelation/ModelFunction_TwoPointCorrelation_deprojected.o /content/CosmoBolognaLib/Modelling/TwoPointCorrelation/Modelling_TwoPointCorrelation_multipoles.o /content/CosmoBolognaLib/Modelling/TwoPointCorrelation/ModelFunction_TwoPointCorrelation_multipoles.o /content/CosmoBolognaLib/Modelling/TwoPointCorrelation/Modelling_TwoPointCorrelation_wedges.o /content/CosmoBolognaLib/Modelling/TwoPointCorrelation/ModelFunction_TwoPointCorrelation_wedges.o /content/CosmoBolognaLib/Modelling/TwoPointCorrelation/Modelling_TwoPointCorrelation1D_filtered.o /content/CosmoBolognaLib/Modelling/TwoPointCorrelation/ModelFunction_TwoPointCorrelation1D_filtered.o  /content/CosmoBolognaLib/Modelling/ThreePointCorrelation/Modelling_ThreePointCorrelation.o /content/CosmoBolognaLib/Modelling/ThreePointCorrelation/ModelFunction_ThreePointCorrelation.o /content/CosmoBolognaLib/Modelling/ThreePointCorrelation/Modelling_ThreePointCorrelation_angular_connected.o /content/CosmoBolognaLib/Modelling/ThreePointCorrelation/ModelFunction_ThreePointCorrelation_angular_connected.o /content/CosmoBolognaLib/Modelling/ThreePointCorrelation/Modelling_ThreePointCorrelation_angular_reduced.o /content/CosmoBolognaLib/Modelling/ThreePointCorrelation/ModelFunction_ThreePointCorrelation_angular_reduced.o /content/CosmoBolognaLib/Modelling/ThreePointCorrelation/Modelling_ThreePointCorrelation_comoving_connected.o /content/CosmoBolognaLib/Modelling/ThreePointCorrelation/ModelFunction_ThreePointCorrelation_comoving_connected.o /content/CosmoBolognaLib/Modelling/ThreePointCorrelation/Modelling_ThreePointCorrelation_comoving_reduced.o /content/CosmoBolognaLib/Modelling/ThreePointCorrelation/ModelFunction_ThreePointCorrelation_comoving_reduced.o  /content/CosmoBolognaLib/GlobalFunc/FuncCosmology.o /content/CosmoBolognaLib/GlobalFunc/Func.o /content/CosmoBolognaLib/GlobalFunc/SubSample.o /content/CosmoBolognaLib/GlobalFunc/Reconstruction.o /content/CosmoBolognaLib/GlobalFunc/Forecast.o /content/CosmoBolognaLib/ParameterFile/ReadParameters.o /content/CosmoBolognaLib/ParameterFile/ParameterFile.o /content/CosmoBolognaLib/External/Cuba-4.2/libcuba.a -Wl,-rpath,/content/CosmoBolognaLib/External/CCfits/lib -L/content/CosmoBolognaLib/External/CCfits/lib -lCCfits -Wl,-rpath,/usr/lib/ -L/usr/lib/ -lgsl -lgslcblas -lm  -lgomp -lfftw3  -lgfortran \n"
          ],
          "name": "stdout"
        }
      ]
    },
    {
      "cell_type": "markdown",
      "metadata": {
        "id": "c8G-Z0k0QNLP"
      },
      "source": [
        "### Import the CosmoBolognaLib"
      ]
    },
    {
      "cell_type": "code",
      "metadata": {
        "id": "MvZl-CSUQcDN",
        "outputId": "307216db-474b-4de6-c59e-3dd4dbb89906",
        "colab": {
          "base_uri": "https://localhost:8080/",
          "height": 180
        }
      },
      "source": [
        "import CosmoBolognaLib as cbl\n",
        "cbl.SetDirs(\"/content/CosmoBolognaLib/\", \"/content/\")"
      ],
      "execution_count": null,
      "outputs": [
        {
          "output_type": "error",
          "ename": "AttributeError",
          "evalue": "ignored",
          "traceback": [
            "\u001b[0;31m---------------------------------------------------------------------------\u001b[0m",
            "\u001b[0;31mAttributeError\u001b[0m                            Traceback (most recent call last)",
            "\u001b[0;32m<ipython-input-26-4c9e5fe7124a>\u001b[0m in \u001b[0;36m<module>\u001b[0;34m()\u001b[0m\n\u001b[1;32m      1\u001b[0m \u001b[0;32mimport\u001b[0m \u001b[0mCosmoBolognaLib\u001b[0m \u001b[0;32mas\u001b[0m \u001b[0mcbl\u001b[0m\u001b[0;34m\u001b[0m\u001b[0;34m\u001b[0m\u001b[0m\n\u001b[0;32m----> 2\u001b[0;31m \u001b[0mcbl\u001b[0m\u001b[0;34m.\u001b[0m\u001b[0mSetDirs\u001b[0m\u001b[0;34m(\u001b[0m\u001b[0;34m\"/content/CosmoBolognaLib/\"\u001b[0m\u001b[0;34m,\u001b[0m \u001b[0;34m\"/content/\"\u001b[0m\u001b[0;34m)\u001b[0m\u001b[0;34m\u001b[0m\u001b[0;34m\u001b[0m\u001b[0m\n\u001b[0m",
            "\u001b[0;31mAttributeError\u001b[0m: module 'CosmoBolognaLib' has no attribute 'SetDirs'"
          ]
        }
      ]
    },
    {
      "cell_type": "markdown",
      "metadata": {
        "id": "ve8wjr3BSlaf"
      },
      "source": [
        "## Set the I/O data"
      ]
    },
    {
      "cell_type": "code",
      "metadata": {
        "id": "2a1sPVgzSpDe"
      },
      "source": [
        "# Set the directory where the data will be stored. This can improve performances \n",
        "save_dir = \"/content/drive/My Drive/Colab Notebooks/Probe_Combination/\"\n",
        "\n",
        "# Set the directory where the chains will be stored (both input and output)\n",
        "chain_dir = save_dir+\"/chains/\"\n",
        "\n",
        "# Set the name of the chains\n",
        "file_A = \"BAO_Cooke17.dat\"\n",
        "file_B = \"WMAP.dat\"\n",
        "\n",
        "# Set the directory where the plots will be stored\n",
        "plot_dir = save_dir+\"plots/\"\n",
        "\n",
        "# Create all the directories\n",
        "os.makedirs(chain_dir, exist_ok=True)\n",
        "os.makedirs(plot_dir, exist_ok=True)"
      ],
      "execution_count": null,
      "outputs": []
    },
    {
      "cell_type": "markdown",
      "metadata": {
        "id": "jqjlub1lccL2"
      },
      "source": [
        "## Read the chains and set the parameter for the analysis"
      ]
    },
    {
      "cell_type": "code",
      "metadata": {
        "id": "1bfEl2yOvlGm",
        "outputId": "60d247c5-fedb-40aa-c6ad-7c2076ffc29a",
        "colab": {
          "base_uri": "https://localhost:8080/"
        }
      },
      "source": [
        "# the fist N columns are the parameters, the last column is the chi2\n",
        "chain_A = np.genfromtxt(chain_dir+file_A, usecols={0,1,2,3,4}, unpack=True)\n",
        "\n",
        "chain_B = np.genfromtxt(chain_dir+file_B, usecols={0,1,2,3,4}, unpack=True)\n",
        "\n",
        "# number of steps in each chain\n",
        "len_chain_A = len(chain_A[0])\n",
        "len_chain_B = len(chain_B[0])\n",
        "\n",
        "# number of parameters in the chain\n",
        "nparams = len(chain_A)-1\n",
        "\n",
        "print(\"Lunghezza chain_A: \",len_chain_A)\n",
        "print(\"Lunghezza chain_B: \",len_chain_B)\n",
        "print(\"Numero di parametri selezionati: \", len(chain_A))"
      ],
      "execution_count": null,
      "outputs": [
        {
          "output_type": "stream",
          "text": [
            "Lunghezza chain_A:  23123\n",
            "Lunghezza chain_B:  46064\n",
            "Numero di parametri selezionati:  5\n"
          ],
          "name": "stdout"
        }
      ]
    },
    {
      "cell_type": "markdown",
      "metadata": {
        "id": "rtsdRaMxwRPF"
      },
      "source": [
        "# Computing $\\log Post_x$ from $\\chi^2_x$ distributions\n",
        "\n"
      ]
    },
    {
      "cell_type": "code",
      "metadata": {
        "id": "u0FMpUjBwc-3",
        "outputId": "8ed7aa26-a4f6-4213-bd4a-8ec255d74459",
        "colab": {
          "base_uri": "https://localhost:8080/"
        }
      },
      "source": [
        "logpost_A = [0. for i in range(len_chain_A)]\n",
        "logpost_B = [0. for i in range(len_chain_B)]\n",
        "\n",
        "for i in range(len_chain_A):\n",
        "    logpost_A[i] = -0.5*chain_A[nparams][i]\n",
        "\n",
        "for i in range(len_chain_B):\n",
        "    logpost_B[i] = -0.5*chain_B[nparams][i]\n",
        "\n",
        "print(\"Min of logpost_A: \", np.min(logpost_A))\n",
        "print(\"Max of logpost_A: \", np.max(logpost_A))\n",
        "print(\"Min of logpost_B: \", np.min(logpost_B))\n",
        "print(\"Max of logpost_B: \", np.max(logpost_B))"
      ],
      "execution_count": null,
      "outputs": [
        {
          "output_type": "stream",
          "text": [
            "Min of logpost_A:  -9.181055\n",
            "Max of logpost_A:  -5.848645e-11\n",
            "Min of logpost_B:  -3792.234\n",
            "Max of logpost_B:  -3779.0425\n"
          ],
          "name": "stdout"
        }
      ]
    },
    {
      "cell_type": "markdown",
      "metadata": {
        "id": "3kf2u_BpxJwB"
      },
      "source": [
        "#Set the chain mesh"
      ]
    },
    {
      "cell_type": "markdown",
      "metadata": {
        "id": "gYdiG3uS79nd"
      },
      "source": [
        "## Set the internal parameters for Chain Mesh"
      ]
    },
    {
      "cell_type": "code",
      "metadata": {
        "id": "Vu11QEwWxSQt"
      },
      "source": [
        "# number of interval per axes\n",
        "dim_grid = 150\n",
        "\n",
        "# cell size dimension\n",
        "cell_size = 200./dim_grid;\n",
        "\n",
        "# searching radius for Chain Mesh\n",
        "rMAX = 3.\n",
        "\n",
        "# maximum numbers of cell\n",
        "nMAX = dim_grid**2\n",
        "\n",
        "# average on the distNum closest points\n",
        "distNum = 500"
      ],
      "execution_count": null,
      "outputs": []
    },
    {
      "cell_type": "markdown",
      "metadata": {
        "id": "UQrruga_8KHm"
      },
      "source": [
        "## Rescale chains and initialize the computed logposteriors"
      ]
    },
    {
      "cell_type": "code",
      "metadata": {
        "id": "QwrmaNTd8lvb"
      },
      "source": [
        "chainAB = [list(chain_A[N])+list(chain_B[N]) for N in range(nparams+1)]\n",
        "chainBA = [list(chain_B[N])+list(chain_A[N]) for N in range(nparams+1)]\n",
        "\n",
        "# logposterior_x calculated in the same points of y\n",
        "logP_B_pointsA = []\n",
        "logP_A_pointsB = []\n",
        "\n",
        "min_logpost_A = np.min(logpost_A)\n",
        "min_logpost_B = np.min(logpost_B)\n",
        "\n",
        "logP_B_pointsA = [min_logpost_B for i in range(len_chain_A)]\n",
        "logP_A_pointsB = [min_logpost_A for i in range(len_chain_B)]\n",
        "\n",
        "# rescale chains between -100 and 100 in order to have a squared chain mesh\n",
        "for nn in range(nparams):\n",
        "\n",
        "  deltaAB = max(chainAB[nn])-min(chainAB[nn])\n",
        "  minAB = min(chainAB[nn])\n",
        "  chainAB[nn] = [200./(deltaAB)*(chainAB[nn][ii]-minAB)-100. for ii in range(len_chain_A+len_chain_B)]\n",
        "\n",
        "  deltaBA = max(chainBA[nn])-min(chainBA[nn])\n",
        "  minBA = min(chainBA[nn])\n",
        "  chainBA[nn] = [200./(deltaBA)*(chainBA[nn][ii]-minBA)-100. for ii in range(len_chain_B+len_chain_A)]"
      ],
      "execution_count": null,
      "outputs": []
    },
    {
      "cell_type": "markdown",
      "metadata": {
        "id": "288BrNCj6sGJ"
      },
      "source": [
        "# Do the chain mesh for BAO_Cooke17+WMAP"
      ]
    },
    {
      "cell_type": "markdown",
      "metadata": {
        "id": "Ok5nwbn266_C"
      },
      "source": [
        "Computing the logposterior of WMAP in the same points of BAO_Cooke17 (AB case)\n"
      ]
    },
    {
      "cell_type": "code",
      "metadata": {
        "id": "ySp-asWj62Yl",
        "outputId": "f3851705-5e6b-403e-ac7e-71f0cb88f2c3",
        "colab": {
          "base_uri": "https://localhost:8080/",
          "height": 231
        }
      },
      "source": [
        "# initialize Chain Mesh\n",
        "ChM = cbl.ChainMesh(cell_size,nparams)\n",
        "\n",
        "# create the chain mesh\n",
        "ChM.create_chain_mesh(chainAB, rMAX, 0, nMAX)\n",
        "\n",
        "# loop over the points of chain_A\n",
        "for jj in range(len_chain_A):\n",
        "\n",
        "  # points of chain_A will be the center from which we search nearest points in the other chain\n",
        "  centre = [chainAB[nn][jj] for nn in range(nparams)]\n",
        "\n",
        "  # find the closest points near current centre\n",
        "  close = ChM.close_objects(centre, len_chain_A)\n",
        "\n",
        "  #calculate distances from centre\n",
        "  dist = []\n",
        "  sqdist = 0.\n",
        "  if len(close)>0:\n",
        "    for cc in close:\n",
        "      for nn in range(nparams):\n",
        "        sqdist+=(centre[nn]-chainAB[nn][cc])**2\n",
        "      dist.append(sqdist**0.5)\n",
        "    ordered_indices = [x for _,x in sorted(zip(dist,close))]\n",
        "\n",
        "    # Computed logPost_B in chain_A's points will be the median of the first distNum closest points\n",
        "    if len(ordered_indices)>distNum:\n",
        "      selection = [chainAB[nparams][i] for i in ordered_indices[0:distNum]]\n",
        "\n",
        "      logP_B_pointsA[jj] = np.median(selection)\n",
        "\n",
        "    # If less than distNun points are found, then the median will be done on that number of points  \n",
        "    else:\n",
        "      selection = [chainAB[nparams][i] for i in ordered_indices[0:len(ordered_indices)]]\n",
        "      logP_B_pointsA[jj] = np.median(selection)"
      ],
      "execution_count": null,
      "outputs": [
        {
          "output_type": "error",
          "ename": "AttributeError",
          "evalue": "ignored",
          "traceback": [
            "\u001b[0;31m---------------------------------------------------------------------------\u001b[0m",
            "\u001b[0;31mAttributeError\u001b[0m                            Traceback (most recent call last)",
            "\u001b[0;32m<ipython-input-11-0d431e970997>\u001b[0m in \u001b[0;36m<module>\u001b[0;34m()\u001b[0m\n\u001b[0;32m----> 1\u001b[0;31m \u001b[0mChM\u001b[0m \u001b[0;34m=\u001b[0m \u001b[0mcbl\u001b[0m\u001b[0;34m.\u001b[0m\u001b[0mChainMesh\u001b[0m\u001b[0;34m(\u001b[0m\u001b[0mcell_size\u001b[0m\u001b[0;34m,\u001b[0m\u001b[0mnparams\u001b[0m\u001b[0;34m)\u001b[0m\u001b[0;34m\u001b[0m\u001b[0;34m\u001b[0m\u001b[0m\n\u001b[0m\u001b[1;32m      2\u001b[0m \u001b[0mChM\u001b[0m\u001b[0;34m.\u001b[0m\u001b[0mcreate_chain_mesh\u001b[0m\u001b[0;34m(\u001b[0m\u001b[0mchainAB\u001b[0m\u001b[0;34m,\u001b[0m \u001b[0mrMAX\u001b[0m\u001b[0;34m,\u001b[0m \u001b[0;36m0\u001b[0m\u001b[0;34m,\u001b[0m \u001b[0mnMAX\u001b[0m\u001b[0;34m)\u001b[0m\u001b[0;34m\u001b[0m\u001b[0;34m\u001b[0m\u001b[0m\n\u001b[1;32m      3\u001b[0m \u001b[0;34m\u001b[0m\u001b[0m\n\u001b[1;32m      4\u001b[0m \u001b[0;32mfor\u001b[0m \u001b[0mjj\u001b[0m \u001b[0;32min\u001b[0m \u001b[0mrange\u001b[0m\u001b[0;34m(\u001b[0m\u001b[0mlen_chain_A\u001b[0m\u001b[0;34m)\u001b[0m\u001b[0;34m:\u001b[0m\u001b[0;34m\u001b[0m\u001b[0;34m\u001b[0m\u001b[0m\n\u001b[1;32m      5\u001b[0m   \u001b[0mcentre\u001b[0m \u001b[0;34m=\u001b[0m \u001b[0;34m[\u001b[0m\u001b[0mchainAB\u001b[0m\u001b[0;34m[\u001b[0m\u001b[0mnn\u001b[0m\u001b[0;34m]\u001b[0m\u001b[0;34m[\u001b[0m\u001b[0mjj\u001b[0m\u001b[0;34m]\u001b[0m \u001b[0;32mfor\u001b[0m \u001b[0mnn\u001b[0m \u001b[0;32min\u001b[0m \u001b[0mrange\u001b[0m\u001b[0;34m(\u001b[0m\u001b[0mnparams\u001b[0m\u001b[0;34m)\u001b[0m\u001b[0;34m]\u001b[0m\u001b[0;34m\u001b[0m\u001b[0;34m\u001b[0m\u001b[0m\n",
            "\u001b[0;31mAttributeError\u001b[0m: module 'CosmoBolognaLib' has no attribute 'ChainMesh'"
          ]
        }
      ]
    },
    {
      "cell_type": "markdown",
      "metadata": {
        "id": "UZ50Tth18_-t"
      },
      "source": [
        "#Do the chain mesh for WMAP+BAO_Cooke17"
      ]
    },
    {
      "cell_type": "markdown",
      "metadata": {
        "id": "IiKwrLgt9rx1"
      },
      "source": [
        "Computing the logposterior of BAO_Cooke17 in the same points of WMAP (BA case)\n"
      ]
    },
    {
      "cell_type": "code",
      "metadata": {
        "id": "TBokZTbL9Lpu",
        "outputId": "ac6d6733-b621-4cbb-c86b-faea6db5f730",
        "colab": {
          "base_uri": "https://localhost:8080/",
          "height": 231
        }
      },
      "source": [
        "ChM = cbl.ChainMesh(cell_size,nparams)\n",
        "ChM.create_chain_mesh(chainBA, rMAX, 0, nMAX)\n",
        "\n",
        "for jj in range(len_chain_B):\n",
        "  centre = [chainBA[nn][jj] for nn in range(nparams)]\n",
        "  close = ChM.close_objects(centre, len_chain_B)\n",
        "  dist = []\n",
        "  sqdist = 0.\n",
        "  if len(close)>0:\n",
        "    for cc in close:\n",
        "      for nn in range(nparams):\n",
        "        sqdist+=(centre[nn]-chainBA[nn][cc])**2\n",
        "      dist.append(sqdist**0.5)\n",
        "    ordered_indices = [x for _,x in sorted(zip(dist,close))]\n",
        "    if len(ordered_indices)>distNum:\n",
        "      selection = [chainBA[nparams][i] for i in ordered_indices[0:distNum]]\n",
        "      logP_A_pointsB[jj] = np.median(selection)\n",
        "    else:\n",
        "      selection = [chainBA[nparams][i] for i in ordered_indices[0:len(ordered_indices)]]\n",
        "      logP_A_pointsB[jj] = np.median(selection)"
      ],
      "execution_count": null,
      "outputs": [
        {
          "output_type": "error",
          "ename": "NameError",
          "evalue": "ignored",
          "traceback": [
            "\u001b[0;31m---------------------------------------------------------------------------\u001b[0m",
            "\u001b[0;31mNameError\u001b[0m                                 Traceback (most recent call last)",
            "\u001b[0;32m<ipython-input-1-96694a78f09f>\u001b[0m in \u001b[0;36m<module>\u001b[0;34m()\u001b[0m\n\u001b[0;32m----> 1\u001b[0;31m \u001b[0mChM\u001b[0m \u001b[0;34m=\u001b[0m \u001b[0mcbl\u001b[0m\u001b[0;34m.\u001b[0m\u001b[0mChainMesh\u001b[0m\u001b[0;34m(\u001b[0m\u001b[0mcell_size\u001b[0m\u001b[0;34m,\u001b[0m\u001b[0mnparams\u001b[0m\u001b[0;34m)\u001b[0m\u001b[0;34m\u001b[0m\u001b[0;34m\u001b[0m\u001b[0m\n\u001b[0m\u001b[1;32m      2\u001b[0m \u001b[0mChM\u001b[0m\u001b[0;34m.\u001b[0m\u001b[0mcreate_chain_mesh\u001b[0m\u001b[0;34m(\u001b[0m\u001b[0mchainBA\u001b[0m\u001b[0;34m,\u001b[0m \u001b[0mrMAX\u001b[0m\u001b[0;34m,\u001b[0m \u001b[0;36m0\u001b[0m\u001b[0;34m,\u001b[0m \u001b[0mnMAX\u001b[0m\u001b[0;34m)\u001b[0m\u001b[0;34m\u001b[0m\u001b[0;34m\u001b[0m\u001b[0m\n\u001b[1;32m      3\u001b[0m \u001b[0;34m\u001b[0m\u001b[0m\n\u001b[1;32m      4\u001b[0m \u001b[0;32mfor\u001b[0m \u001b[0mjj\u001b[0m \u001b[0;32min\u001b[0m \u001b[0mrange\u001b[0m\u001b[0;34m(\u001b[0m\u001b[0mlen_chain_B\u001b[0m\u001b[0;34m)\u001b[0m\u001b[0;34m:\u001b[0m\u001b[0;34m\u001b[0m\u001b[0;34m\u001b[0m\u001b[0m\n\u001b[1;32m      5\u001b[0m   \u001b[0mcentre\u001b[0m \u001b[0;34m=\u001b[0m \u001b[0;34m[\u001b[0m\u001b[0mchainBA\u001b[0m\u001b[0;34m[\u001b[0m\u001b[0mnn\u001b[0m\u001b[0;34m]\u001b[0m\u001b[0;34m[\u001b[0m\u001b[0mjj\u001b[0m\u001b[0;34m]\u001b[0m \u001b[0;32mfor\u001b[0m \u001b[0mnn\u001b[0m \u001b[0;32min\u001b[0m \u001b[0mrange\u001b[0m\u001b[0;34m(\u001b[0m\u001b[0mnparams\u001b[0m\u001b[0;34m)\u001b[0m\u001b[0;34m]\u001b[0m\u001b[0;34m\u001b[0m\u001b[0;34m\u001b[0m\u001b[0m\n",
            "\u001b[0;31mNameError\u001b[0m: name 'cbl' is not defined"
          ]
        }
      ]
    },
    {
      "cell_type": "markdown",
      "metadata": {
        "id": "mrHTk9z4-AwY"
      },
      "source": [
        "#Compute the importance sampling weights"
      ]
    },
    {
      "cell_type": "markdown",
      "metadata": {
        "id": "CI-cHlOA-HN1"
      },
      "source": [
        "The **importance weight** is the ratio of the posteriors (or Likelihood) of the two logposterior distributions. For the case of AB:\n",
        "\n",
        "$w = exp(\\log P_B(\\vec{\\theta_A}) - \\log P_A(\\vec{\\theta_A}) + \\lambda_{SHIFT})$\n",
        "\n",
        "where $\\lambda_{SHIFT} = max(\\log P_A(\\vec{\\theta_A})) - max(\\log P_B(\\vec{\\theta_A}))$"
      ]
    },
    {
      "cell_type": "code",
      "metadata": {
        "id": "7HCuR9VP_1hF",
        "outputId": "b5320873-1859-4923-91e0-00aaf1a68597",
        "colab": {
          "base_uri": "https://localhost:8080/"
        }
      },
      "source": [
        "weights_A = []\n",
        "weights_B = []\n",
        "\n",
        "shift_A = -np.max(logP_B_pointsA)+np.max(logpost_A)\n",
        "print(\"shift_A : \"+str(shift_A))\n",
        "\n",
        "# importance sampling rule for the weights\n",
        "weights_A = np.array([np.exp(logP_B_pointsA[ii] - logpost_A[ii] + shift_A) for ii in range(len_chain_A)])\n",
        "\n",
        "shift_B = -np.max(logP_A_pointsB)+np.max(logpost_B)\n",
        "print(\"shift_B : \"+str(shift_B))\n",
        "\n",
        "weights_B = np.array([np.exp(logP_A_pointsB[ii] - logpost_B[ii] + shift_B) for ii in range(len_chain_B)]) \n",
        "\n",
        "print(\"MAX e MIN weights\")\n",
        "print (min(weights_A), max(weights_A))\n",
        "print (min(weights_B), max(weights_B))"
      ],
      "execution_count": null,
      "outputs": [
        {
          "output_type": "stream",
          "text": [
            "shift_A : 3792.2339999999413\n",
            "shift_B : -3769.861445\n",
            "MAX e MIN weights\n",
            "1.0 9711.392889244276\n",
            "1.0 535791.3007721308\n"
          ],
          "name": "stdout"
        }
      ]
    },
    {
      "cell_type": "markdown",
      "metadata": {
        "id": "X0qVeFAjBql1"
      },
      "source": [
        "## Cut the distribution of weights to smooth spikes"
      ]
    },
    {
      "cell_type": "code",
      "metadata": {
        "id": "y4aVorFzDcJE",
        "outputId": "4382214c-79b1-43bf-eec8-bba8a8d1c3fc",
        "colab": {
          "base_uri": "https://localhost:8080/"
        }
      },
      "source": [
        "cutting_weights = True\n",
        "\n",
        "# set the cut (here is 5-sigma cut)\n",
        "cut = 5.\n",
        "\n",
        "if(cutting_weights==True):\n",
        "  sigma_wA = np.std(weights_A)\n",
        "  weights_A[weights_A>np.mean(weights_A)+cut*sigma_wA] = np.mean(weights_A)\n",
        "\n",
        "  sigma_wB = np.std(weights_B)\n",
        "  weights_B[weights_B>np.mean(weights_B)+cut*sigma_wB] = np.mean(weights_B)\n",
        "\n",
        "print(\"MAX e MIN weights after cutting over \"+str(cut)+\"-sigma\")\n",
        "print (min(weights_A), max(weights_A))\n",
        "print (min(weights_B), max(weights_B))"
      ],
      "execution_count": null,
      "outputs": [
        {
          "output_type": "stream",
          "text": [
            "MAX e MIN weights after cutting over 5.0-sigma\n",
            "1.0 401.4166839673272\n",
            "1.0 25096.909749732637\n"
          ],
          "name": "stdout"
        }
      ]
    },
    {
      "cell_type": "markdown",
      "metadata": {
        "id": "6Q8JIaaCDefE"
      },
      "source": [
        "# Concatenate the resulting chains"
      ]
    },
    {
      "cell_type": "code",
      "metadata": {
        "id": "sJMv831DD-5f"
      },
      "source": [
        "par_A = [chain_A[N] for N in range(nparams)]\n",
        "par_B = [chain_B[N] for N in range(nparams)]\n",
        "\n",
        "joined_sample = list(par_A)+list(par_B)\n",
        "final_weights = list(weights_A)+list(weights_B)"
      ],
      "execution_count": null,
      "outputs": []
    },
    {
      "cell_type": "markdown",
      "metadata": {
        "id": "1VVE0wbFEa6z"
      },
      "source": [
        "# Plot the resulting constraints"
      ]
    },
    {
      "cell_type": "markdown",
      "metadata": {
        "id": "cq4jbO3CEzH4"
      },
      "source": [
        "## Define the function that plots contours in parameters space"
      ]
    },
    {
      "cell_type": "code",
      "metadata": {
        "id": "LmFsO-pAEnZS"
      },
      "source": [
        "def plot_contours(points, figure, axes, color, label, w):\n",
        "  \n",
        "  labels_par = [r'$\\Omega_bh^2$', r'$h$', r'$\\Omega_{\\Lambda}$', r'$\\Omega_m$']\n",
        "  range = [(0.0208, 0.0240), (0.63, 0.83), (0.45,0.80), (0.2, 0.53)]\n",
        "  \n",
        "  corner.corner(points, weights=w, bins=30, labels=labels_par, title_fmt = \".3f\",\\\n",
        "                smooth1d=None, plot_datapoints=False, show_titles=True, smooth=True,\\\n",
        "                plot_density=True,range=range,truth_color=\"firebrick\", levels=(0.68,0.95), plot_contours=True,\\\n",
        "                color=color, title_kwargs={\"fontsize\": 20}, fill_contours=True, hist_kwargs={\"density\" : True, \"color\":color}, fig=figure)\n",
        "\n",
        "  axes[0][1].plot(1,1,color, label=label)\n",
        "  axes[0][1].legend(loc=\"best\", fontsize=11)\n",
        "  \n",
        "  for ax in fig.get_axes():\n",
        "    ax.tick_params(axis='both', labelsize=15)"
      ],
      "execution_count": null,
      "outputs": []
    },
    {
      "cell_type": "markdown",
      "metadata": {
        "id": "wKVQKI2iGh9f"
      },
      "source": [
        "## Get the base contours"
      ]
    },
    {
      "cell_type": "code",
      "metadata": {
        "id": "4nUhZDoXGiK3",
        "outputId": "7ebf22b6-7ece-44b1-db23-74b05066f756",
        "colab": {
          "base_uri": "https://localhost:8080/",
          "height": 810
        }
      },
      "source": [
        "col1 = 'orange'\n",
        "col2 = 'lightskyblue'\n",
        "col3 = 'firebrick'\n",
        "col4 = 'royalblue'\n",
        "\n",
        "label_chainA = \"WMAP\"\n",
        "label_chainB = \"BAO (Cooke et al. 17)\"\n",
        "label_chainAB = \"WMAP+BAO\"\n",
        "label_chainBA = \"BAO+WMAP\"\n",
        "label_impsamp = \"imp. sampling\"\n",
        "\n",
        "fig, axes = plt.subplots(nparams, nparams, figsize=(10,10))\n",
        "\n",
        "#plot the base contours\n",
        "plot_contours(np.array(par_A).T, fig, axes, col1, \"WMAP\", None)\n",
        "plot_contours(np.array(par_B).T, fig, axes, col2, \"BAO (Cooke et al. 2017)\", None)"
      ],
      "execution_count": null,
      "outputs": [
        {
          "output_type": "error",
          "ename": "NameError",
          "evalue": "ignored",
          "traceback": [
            "\u001b[0;31m---------------------------------------------------------------------------\u001b[0m",
            "\u001b[0;31mNameError\u001b[0m                                 Traceback (most recent call last)",
            "\u001b[0;32m<ipython-input-13-b80ce55b0f45>\u001b[0m in \u001b[0;36m<module>\u001b[0;34m()\u001b[0m\n\u001b[1;32m     13\u001b[0m \u001b[0;34m\u001b[0m\u001b[0m\n\u001b[1;32m     14\u001b[0m \u001b[0;31m#plot the base contours\u001b[0m\u001b[0;34m\u001b[0m\u001b[0;34m\u001b[0m\u001b[0;34m\u001b[0m\u001b[0m\n\u001b[0;32m---> 15\u001b[0;31m \u001b[0mplot_contours\u001b[0m\u001b[0;34m(\u001b[0m\u001b[0mnp\u001b[0m\u001b[0;34m.\u001b[0m\u001b[0marray\u001b[0m\u001b[0;34m(\u001b[0m\u001b[0mpar_A\u001b[0m\u001b[0;34m)\u001b[0m\u001b[0;34m.\u001b[0m\u001b[0mT\u001b[0m\u001b[0;34m,\u001b[0m \u001b[0mfig\u001b[0m\u001b[0;34m,\u001b[0m \u001b[0maxes\u001b[0m\u001b[0;34m,\u001b[0m \u001b[0mcol1\u001b[0m\u001b[0;34m,\u001b[0m \u001b[0;34m\"WMAP\"\u001b[0m\u001b[0;34m,\u001b[0m \u001b[0;32mNone\u001b[0m\u001b[0;34m)\u001b[0m\u001b[0;34m\u001b[0m\u001b[0;34m\u001b[0m\u001b[0m\n\u001b[0m\u001b[1;32m     16\u001b[0m \u001b[0mplot_contours\u001b[0m\u001b[0;34m(\u001b[0m\u001b[0mnp\u001b[0m\u001b[0;34m.\u001b[0m\u001b[0marray\u001b[0m\u001b[0;34m(\u001b[0m\u001b[0mpar_B\u001b[0m\u001b[0;34m)\u001b[0m\u001b[0;34m.\u001b[0m\u001b[0mT\u001b[0m\u001b[0;34m,\u001b[0m \u001b[0mfig\u001b[0m\u001b[0;34m,\u001b[0m \u001b[0maxes\u001b[0m\u001b[0;34m,\u001b[0m \u001b[0mcol2\u001b[0m\u001b[0;34m,\u001b[0m \u001b[0;34m\"BAO (Cooke et al. 2017)\"\u001b[0m\u001b[0;34m,\u001b[0m \u001b[0;32mNone\u001b[0m\u001b[0;34m)\u001b[0m\u001b[0;34m\u001b[0m\u001b[0;34m\u001b[0m\u001b[0m\n\u001b[1;32m     17\u001b[0m \u001b[0;34m\u001b[0m\u001b[0m\n",
            "\u001b[0;31mNameError\u001b[0m: name 'par_A' is not defined"
          ]
        },
        {
          "output_type": "display_data",
          "data": {
            "image/png": "[encoded data removed]",
            "text/plain": [
              "<Figure size 720x720 with 16 Axes>"
            ]
          },
          "metadata": {
            "tags": [],
            "needs_background": "light"
          }
        }
      ]
    },
    {
      "cell_type": "markdown",
      "metadata": {
        "id": "XSXkBxo_yibY"
      },
      "source": [
        "## Get the re-weighted contours"
      ]
    },
    {
      "cell_type": "code",
      "metadata": {
        "id": "BQ3dAGF9yuP1"
      },
      "source": [
        "plot_contours(np.array(par_A).T, fig, axes, col2, \"BAO+WMAP\", weights_B)\n",
        "plot_contours(np.array(par_B).T, fig, axes, col2, \"BAO+WMAP\", weights_B)"
      ],
      "execution_count": null,
      "outputs": []
    },
    {
      "cell_type": "markdown",
      "metadata": {
        "id": "OFcVyxWsy7Ob"
      },
      "source": [
        "## Get the importance sampling final contours"
      ]
    },
    {
      "cell_type": "code",
      "metadata": {
        "id": "dqcHYyr2zA_E"
      },
      "source": [
        "plot_contours(np.array(joined_sample).T, fig, axes, 'k', \"Importance sampling\", final_weights)"
      ],
      "execution_count": null,
      "outputs": []
    }
  ]
}